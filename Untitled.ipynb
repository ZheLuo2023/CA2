{
 "cells": [
  {
   "cell_type": "code",
   "execution_count": 41,
   "id": "0639f22b",
   "metadata": {},
   "outputs": [],
   "source": [
    "import pandas as pd\n",
    "import numpy as np\n",
    "import matplotlib.pyplot as pl\n",
    "import random\n",
    "import seaborn as sns #visualisation\n",
    "np.random.seed(42)\n",
    "random.seed(42)\n",
    "import warnings\n",
    "warnings.filterwarnings(\"ignore\")\n",
    "import statistics\n",
    "import scipy.stats as stat"
   ]
  },
  {
   "cell_type": "code",
   "execution_count": 67,
   "id": "ae3242df",
   "metadata": {},
   "outputs": [],
   "source": [
    "df1= pd.read_csv(\"Total rail freight transport.csv\")\n",
    "df2 = pd.read_csv(\"THA21.20231206132827.csv\")"
   ]
  },
  {
   "cell_type": "code",
   "execution_count": 68,
   "id": "bb5ee68a",
   "metadata": {},
   "outputs": [
    {
     "data": {
      "text/html": [
       "<div>\n",
       "<style scoped>\n",
       "    .dataframe tbody tr th:only-of-type {\n",
       "        vertical-align: middle;\n",
       "    }\n",
       "\n",
       "    .dataframe tbody tr th {\n",
       "        vertical-align: top;\n",
       "    }\n",
       "\n",
       "    .dataframe thead th {\n",
       "        text-align: right;\n",
       "    }\n",
       "</style>\n",
       "<table border=\"1\" class=\"dataframe\">\n",
       "  <thead>\n",
       "    <tr style=\"text-align: right;\">\n",
       "      <th></th>\n",
       "      <th>STATISTIC</th>\n",
       "      <th>Statistic Label</th>\n",
       "      <th>TLIST(W1)</th>\n",
       "      <th>Year</th>\n",
       "      <th>C03910V04662</th>\n",
       "      <th>Transport Traffic Site</th>\n",
       "      <th>C01198V01436</th>\n",
       "      <th>Weeks of the year</th>\n",
       "      <th>UNIT</th>\n",
       "      <th>VALUE</th>\n",
       "    </tr>\n",
       "  </thead>\n",
       "  <tbody>\n",
       "    <tr>\n",
       "      <th>0</th>\n",
       "      <td>THA21C01</td>\n",
       "      <td>Average weekly volume of cars</td>\n",
       "      <td>2019</td>\n",
       "      <td>2019</td>\n",
       "      <td>10</td>\n",
       "      <td>Selected traffic sites - Dublin</td>\n",
       "      <td>1</td>\n",
       "      <td>Week 01</td>\n",
       "      <td>Number</td>\n",
       "      <td>463064.0</td>\n",
       "    </tr>\n",
       "    <tr>\n",
       "      <th>1</th>\n",
       "      <td>THA21C01</td>\n",
       "      <td>Average weekly volume of cars</td>\n",
       "      <td>2019</td>\n",
       "      <td>2019</td>\n",
       "      <td>10</td>\n",
       "      <td>Selected traffic sites - Dublin</td>\n",
       "      <td>2</td>\n",
       "      <td>Week 02</td>\n",
       "      <td>Number</td>\n",
       "      <td>534609.0</td>\n",
       "    </tr>\n",
       "    <tr>\n",
       "      <th>2</th>\n",
       "      <td>THA21C01</td>\n",
       "      <td>Average weekly volume of cars</td>\n",
       "      <td>2019</td>\n",
       "      <td>2019</td>\n",
       "      <td>10</td>\n",
       "      <td>Selected traffic sites - Dublin</td>\n",
       "      <td>3</td>\n",
       "      <td>Week 03</td>\n",
       "      <td>Number</td>\n",
       "      <td>549470.0</td>\n",
       "    </tr>\n",
       "    <tr>\n",
       "      <th>3</th>\n",
       "      <td>THA21C01</td>\n",
       "      <td>Average weekly volume of cars</td>\n",
       "      <td>2019</td>\n",
       "      <td>2019</td>\n",
       "      <td>10</td>\n",
       "      <td>Selected traffic sites - Dublin</td>\n",
       "      <td>4</td>\n",
       "      <td>Week 04</td>\n",
       "      <td>Number</td>\n",
       "      <td>550892.0</td>\n",
       "    </tr>\n",
       "    <tr>\n",
       "      <th>4</th>\n",
       "      <td>THA21C01</td>\n",
       "      <td>Average weekly volume of cars</td>\n",
       "      <td>2019</td>\n",
       "      <td>2019</td>\n",
       "      <td>10</td>\n",
       "      <td>Selected traffic sites - Dublin</td>\n",
       "      <td>5</td>\n",
       "      <td>Week 05</td>\n",
       "      <td>Number</td>\n",
       "      <td>543468.0</td>\n",
       "    </tr>\n",
       "    <tr>\n",
       "      <th>...</th>\n",
       "      <td>...</td>\n",
       "      <td>...</td>\n",
       "      <td>...</td>\n",
       "      <td>...</td>\n",
       "      <td>...</td>\n",
       "      <td>...</td>\n",
       "      <td>...</td>\n",
       "      <td>...</td>\n",
       "      <td>...</td>\n",
       "      <td>...</td>\n",
       "    </tr>\n",
       "    <tr>\n",
       "      <th>525</th>\n",
       "      <td>THA21C01</td>\n",
       "      <td>Average weekly volume of cars</td>\n",
       "      <td>2023</td>\n",
       "      <td>2023</td>\n",
       "      <td>20</td>\n",
       "      <td>Selected traffic sites - Regional</td>\n",
       "      <td>49</td>\n",
       "      <td>Week 49</td>\n",
       "      <td>Number</td>\n",
       "      <td>NaN</td>\n",
       "    </tr>\n",
       "    <tr>\n",
       "      <th>526</th>\n",
       "      <td>THA21C01</td>\n",
       "      <td>Average weekly volume of cars</td>\n",
       "      <td>2023</td>\n",
       "      <td>2023</td>\n",
       "      <td>20</td>\n",
       "      <td>Selected traffic sites - Regional</td>\n",
       "      <td>50</td>\n",
       "      <td>Week 50</td>\n",
       "      <td>Number</td>\n",
       "      <td>NaN</td>\n",
       "    </tr>\n",
       "    <tr>\n",
       "      <th>527</th>\n",
       "      <td>THA21C01</td>\n",
       "      <td>Average weekly volume of cars</td>\n",
       "      <td>2023</td>\n",
       "      <td>2023</td>\n",
       "      <td>20</td>\n",
       "      <td>Selected traffic sites - Regional</td>\n",
       "      <td>51</td>\n",
       "      <td>Week 51</td>\n",
       "      <td>Number</td>\n",
       "      <td>NaN</td>\n",
       "    </tr>\n",
       "    <tr>\n",
       "      <th>528</th>\n",
       "      <td>THA21C01</td>\n",
       "      <td>Average weekly volume of cars</td>\n",
       "      <td>2023</td>\n",
       "      <td>2023</td>\n",
       "      <td>20</td>\n",
       "      <td>Selected traffic sites - Regional</td>\n",
       "      <td>52</td>\n",
       "      <td>Week 52</td>\n",
       "      <td>Number</td>\n",
       "      <td>NaN</td>\n",
       "    </tr>\n",
       "    <tr>\n",
       "      <th>529</th>\n",
       "      <td>THA21C01</td>\n",
       "      <td>Average weekly volume of cars</td>\n",
       "      <td>2023</td>\n",
       "      <td>2023</td>\n",
       "      <td>20</td>\n",
       "      <td>Selected traffic sites - Regional</td>\n",
       "      <td>53</td>\n",
       "      <td>Week 53</td>\n",
       "      <td>Number</td>\n",
       "      <td>NaN</td>\n",
       "    </tr>\n",
       "  </tbody>\n",
       "</table>\n",
       "<p>530 rows × 10 columns</p>\n",
       "</div>"
      ],
      "text/plain": [
       "    STATISTIC                Statistic Label  TLIST(W1)  Year  C03910V04662  \\\n",
       "0    THA21C01  Average weekly volume of cars       2019  2019            10   \n",
       "1    THA21C01  Average weekly volume of cars       2019  2019            10   \n",
       "2    THA21C01  Average weekly volume of cars       2019  2019            10   \n",
       "3    THA21C01  Average weekly volume of cars       2019  2019            10   \n",
       "4    THA21C01  Average weekly volume of cars       2019  2019            10   \n",
       "..        ...                            ...        ...   ...           ...   \n",
       "525  THA21C01  Average weekly volume of cars       2023  2023            20   \n",
       "526  THA21C01  Average weekly volume of cars       2023  2023            20   \n",
       "527  THA21C01  Average weekly volume of cars       2023  2023            20   \n",
       "528  THA21C01  Average weekly volume of cars       2023  2023            20   \n",
       "529  THA21C01  Average weekly volume of cars       2023  2023            20   \n",
       "\n",
       "                Transport Traffic Site  C01198V01436 Weeks of the year  \\\n",
       "0      Selected traffic sites - Dublin             1           Week 01   \n",
       "1      Selected traffic sites - Dublin             2           Week 02   \n",
       "2      Selected traffic sites - Dublin             3           Week 03   \n",
       "3      Selected traffic sites - Dublin             4           Week 04   \n",
       "4      Selected traffic sites - Dublin             5           Week 05   \n",
       "..                                 ...           ...               ...   \n",
       "525  Selected traffic sites - Regional            49           Week 49   \n",
       "526  Selected traffic sites - Regional            50           Week 50   \n",
       "527  Selected traffic sites - Regional            51           Week 51   \n",
       "528  Selected traffic sites - Regional            52           Week 52   \n",
       "529  Selected traffic sites - Regional            53           Week 53   \n",
       "\n",
       "       UNIT     VALUE  \n",
       "0    Number  463064.0  \n",
       "1    Number  534609.0  \n",
       "2    Number  549470.0  \n",
       "3    Number  550892.0  \n",
       "4    Number  543468.0  \n",
       "..      ...       ...  \n",
       "525  Number       NaN  \n",
       "526  Number       NaN  \n",
       "527  Number       NaN  \n",
       "528  Number       NaN  \n",
       "529  Number       NaN  \n",
       "\n",
       "[530 rows x 10 columns]"
      ]
     },
     "execution_count": 68,
     "metadata": {},
     "output_type": "execute_result"
    }
   ],
   "source": [
    "df2"
   ]
  },
  {
   "cell_type": "code",
   "execution_count": 3,
   "id": "ef6e0adc",
   "metadata": {},
   "outputs": [
    {
     "data": {
      "text/html": [
       "<div>\n",
       "<style scoped>\n",
       "    .dataframe tbody tr th:only-of-type {\n",
       "        vertical-align: middle;\n",
       "    }\n",
       "\n",
       "    .dataframe tbody tr th {\n",
       "        vertical-align: top;\n",
       "    }\n",
       "\n",
       "    .dataframe thead th {\n",
       "        text-align: right;\n",
       "    }\n",
       "</style>\n",
       "<table border=\"1\" class=\"dataframe\">\n",
       "  <thead>\n",
       "    <tr style=\"text-align: right;\">\n",
       "      <th></th>\n",
       "      <th>COUNTRY</th>\n",
       "      <th>Country</th>\n",
       "      <th>VARIABLE</th>\n",
       "      <th>Variable</th>\n",
       "      <th>TIME</th>\n",
       "      <th>Time</th>\n",
       "      <th>Unit Code</th>\n",
       "      <th>Unit</th>\n",
       "      <th>PowerCode Code</th>\n",
       "      <th>PowerCode</th>\n",
       "      <th>Reference Period Code</th>\n",
       "      <th>Reference Period</th>\n",
       "      <th>Value</th>\n",
       "      <th>Flag Codes</th>\n",
       "      <th>Flags</th>\n",
       "    </tr>\n",
       "  </thead>\n",
       "  <tbody>\n",
       "    <tr>\n",
       "      <th>0</th>\n",
       "      <td>JPN</td>\n",
       "      <td>Japan</td>\n",
       "      <td>Q-RL-GOOD-TOT</td>\n",
       "      <td>Total rail freight transport</td>\n",
       "      <td>1994-01</td>\n",
       "      <td>Jan-1994</td>\n",
       "      <td>TONNEKM</td>\n",
       "      <td>Tonnes-kilometres</td>\n",
       "      <td>6</td>\n",
       "      <td>Millions</td>\n",
       "      <td>NaN</td>\n",
       "      <td>NaN</td>\n",
       "      <td>1908.0</td>\n",
       "      <td>NaN</td>\n",
       "      <td>NaN</td>\n",
       "    </tr>\n",
       "    <tr>\n",
       "      <th>1</th>\n",
       "      <td>JPN</td>\n",
       "      <td>Japan</td>\n",
       "      <td>Q-RL-GOOD-TOT</td>\n",
       "      <td>Total rail freight transport</td>\n",
       "      <td>1994-02</td>\n",
       "      <td>Feb-1994</td>\n",
       "      <td>TONNEKM</td>\n",
       "      <td>Tonnes-kilometres</td>\n",
       "      <td>6</td>\n",
       "      <td>Millions</td>\n",
       "      <td>NaN</td>\n",
       "      <td>NaN</td>\n",
       "      <td>2007.0</td>\n",
       "      <td>NaN</td>\n",
       "      <td>NaN</td>\n",
       "    </tr>\n",
       "    <tr>\n",
       "      <th>2</th>\n",
       "      <td>JPN</td>\n",
       "      <td>Japan</td>\n",
       "      <td>Q-RL-GOOD-TOT</td>\n",
       "      <td>Total rail freight transport</td>\n",
       "      <td>1994-03</td>\n",
       "      <td>Mar-1994</td>\n",
       "      <td>TONNEKM</td>\n",
       "      <td>Tonnes-kilometres</td>\n",
       "      <td>6</td>\n",
       "      <td>Millions</td>\n",
       "      <td>NaN</td>\n",
       "      <td>NaN</td>\n",
       "      <td>2416.0</td>\n",
       "      <td>NaN</td>\n",
       "      <td>NaN</td>\n",
       "    </tr>\n",
       "    <tr>\n",
       "      <th>3</th>\n",
       "      <td>JPN</td>\n",
       "      <td>Japan</td>\n",
       "      <td>Q-RL-GOOD-TOT</td>\n",
       "      <td>Total rail freight transport</td>\n",
       "      <td>1994-04</td>\n",
       "      <td>Apr-1994</td>\n",
       "      <td>TONNEKM</td>\n",
       "      <td>Tonnes-kilometres</td>\n",
       "      <td>6</td>\n",
       "      <td>Millions</td>\n",
       "      <td>NaN</td>\n",
       "      <td>NaN</td>\n",
       "      <td>2174.0</td>\n",
       "      <td>NaN</td>\n",
       "      <td>NaN</td>\n",
       "    </tr>\n",
       "    <tr>\n",
       "      <th>4</th>\n",
       "      <td>JPN</td>\n",
       "      <td>Japan</td>\n",
       "      <td>Q-RL-GOOD-TOT</td>\n",
       "      <td>Total rail freight transport</td>\n",
       "      <td>1994-05</td>\n",
       "      <td>May-1994</td>\n",
       "      <td>TONNEKM</td>\n",
       "      <td>Tonnes-kilometres</td>\n",
       "      <td>6</td>\n",
       "      <td>Millions</td>\n",
       "      <td>NaN</td>\n",
       "      <td>NaN</td>\n",
       "      <td>1902.0</td>\n",
       "      <td>NaN</td>\n",
       "      <td>NaN</td>\n",
       "    </tr>\n",
       "  </tbody>\n",
       "</table>\n",
       "</div>"
      ],
      "text/plain": [
       "  COUNTRY Country       VARIABLE                      Variable     TIME  \\\n",
       "0     JPN   Japan  Q-RL-GOOD-TOT  Total rail freight transport  1994-01   \n",
       "1     JPN   Japan  Q-RL-GOOD-TOT  Total rail freight transport  1994-02   \n",
       "2     JPN   Japan  Q-RL-GOOD-TOT  Total rail freight transport  1994-03   \n",
       "3     JPN   Japan  Q-RL-GOOD-TOT  Total rail freight transport  1994-04   \n",
       "4     JPN   Japan  Q-RL-GOOD-TOT  Total rail freight transport  1994-05   \n",
       "\n",
       "       Time Unit Code               Unit  PowerCode Code PowerCode  \\\n",
       "0  Jan-1994   TONNEKM  Tonnes-kilometres               6  Millions   \n",
       "1  Feb-1994   TONNEKM  Tonnes-kilometres               6  Millions   \n",
       "2  Mar-1994   TONNEKM  Tonnes-kilometres               6  Millions   \n",
       "3  Apr-1994   TONNEKM  Tonnes-kilometres               6  Millions   \n",
       "4  May-1994   TONNEKM  Tonnes-kilometres               6  Millions   \n",
       "\n",
       "   Reference Period Code  Reference Period   Value  Flag Codes  Flags  \n",
       "0                    NaN               NaN  1908.0         NaN    NaN  \n",
       "1                    NaN               NaN  2007.0         NaN    NaN  \n",
       "2                    NaN               NaN  2416.0         NaN    NaN  \n",
       "3                    NaN               NaN  2174.0         NaN    NaN  \n",
       "4                    NaN               NaN  1902.0         NaN    NaN  "
      ]
     },
     "execution_count": 3,
     "metadata": {},
     "output_type": "execute_result"
    }
   ],
   "source": [
    "df1.head()"
   ]
  },
  {
   "cell_type": "code",
   "execution_count": 4,
   "id": "c79ef13d",
   "metadata": {},
   "outputs": [
    {
     "name": "stdout",
     "output_type": "stream",
     "text": [
      "<class 'pandas.core.frame.DataFrame'>\n",
      "RangeIndex: 1416 entries, 0 to 1415\n",
      "Data columns (total 15 columns):\n",
      " #   Column                 Non-Null Count  Dtype  \n",
      "---  ------                 --------------  -----  \n",
      " 0   COUNTRY                1416 non-null   object \n",
      " 1   Country                1416 non-null   object \n",
      " 2   VARIABLE               1416 non-null   object \n",
      " 3   Variable               1416 non-null   object \n",
      " 4   TIME                   1416 non-null   object \n",
      " 5   Time                   1416 non-null   object \n",
      " 6   Unit Code              1416 non-null   object \n",
      " 7   Unit                   1416 non-null   object \n",
      " 8   PowerCode Code         1416 non-null   int64  \n",
      " 9   PowerCode              1416 non-null   object \n",
      " 10  Reference Period Code  0 non-null      float64\n",
      " 11  Reference Period       0 non-null      float64\n",
      " 12  Value                  1416 non-null   float64\n",
      " 13  Flag Codes             0 non-null      float64\n",
      " 14  Flags                  0 non-null      float64\n",
      "dtypes: float64(5), int64(1), object(9)\n",
      "memory usage: 166.1+ KB\n"
     ]
    }
   ],
   "source": [
    "df1.info()"
   ]
  },
  {
   "cell_type": "code",
   "execution_count": 5,
   "id": "f046f4c3",
   "metadata": {},
   "outputs": [
    {
     "data": {
      "text/plain": [
       "(1416, 15)"
      ]
     },
     "execution_count": 5,
     "metadata": {},
     "output_type": "execute_result"
    }
   ],
   "source": [
    "df1.shape"
   ]
  },
  {
   "cell_type": "code",
   "execution_count": 6,
   "id": "a6701a92",
   "metadata": {},
   "outputs": [
    {
     "name": "stdout",
     "output_type": "stream",
     "text": [
      "Index(['COUNTRY', 'Country', 'VARIABLE', 'Variable', 'TIME', 'Time',\n",
      "       'Unit Code', 'Unit', 'PowerCode Code', 'PowerCode',\n",
      "       'Reference Period Code', 'Reference Period', 'Value', 'Flag Codes',\n",
      "       'Flags'],\n",
      "      dtype='object')\n"
     ]
    }
   ],
   "source": [
    "df1 = pd.DataFrame(df1)\n",
    "column_names = df1.columns\n",
    "print(column_names)"
   ]
  },
  {
   "cell_type": "code",
   "execution_count": 7,
   "id": "0726299b",
   "metadata": {},
   "outputs": [
    {
     "data": {
      "text/html": [
       "<div>\n",
       "<style scoped>\n",
       "    .dataframe tbody tr th:only-of-type {\n",
       "        vertical-align: middle;\n",
       "    }\n",
       "\n",
       "    .dataframe tbody tr th {\n",
       "        vertical-align: top;\n",
       "    }\n",
       "\n",
       "    .dataframe thead th {\n",
       "        text-align: right;\n",
       "    }\n",
       "</style>\n",
       "<table border=\"1\" class=\"dataframe\">\n",
       "  <thead>\n",
       "    <tr style=\"text-align: right;\">\n",
       "      <th></th>\n",
       "      <th>Country</th>\n",
       "      <th>TIME</th>\n",
       "      <th>Total rail freight transport(M)</th>\n",
       "    </tr>\n",
       "  </thead>\n",
       "  <tbody>\n",
       "    <tr>\n",
       "      <th>0</th>\n",
       "      <td>Japan</td>\n",
       "      <td>1994-01</td>\n",
       "      <td>1908.0</td>\n",
       "    </tr>\n",
       "    <tr>\n",
       "      <th>1</th>\n",
       "      <td>Japan</td>\n",
       "      <td>1994-02</td>\n",
       "      <td>2007.0</td>\n",
       "    </tr>\n",
       "    <tr>\n",
       "      <th>2</th>\n",
       "      <td>Japan</td>\n",
       "      <td>1994-03</td>\n",
       "      <td>2416.0</td>\n",
       "    </tr>\n",
       "    <tr>\n",
       "      <th>3</th>\n",
       "      <td>Japan</td>\n",
       "      <td>1994-04</td>\n",
       "      <td>2174.0</td>\n",
       "    </tr>\n",
       "    <tr>\n",
       "      <th>4</th>\n",
       "      <td>Japan</td>\n",
       "      <td>1994-05</td>\n",
       "      <td>1902.0</td>\n",
       "    </tr>\n",
       "    <tr>\n",
       "      <th>...</th>\n",
       "      <td>...</td>\n",
       "      <td>...</td>\n",
       "      <td>...</td>\n",
       "    </tr>\n",
       "    <tr>\n",
       "      <th>1411</th>\n",
       "      <td>Finland</td>\n",
       "      <td>2023-02</td>\n",
       "      <td>633.0</td>\n",
       "    </tr>\n",
       "    <tr>\n",
       "      <th>1412</th>\n",
       "      <td>Finland</td>\n",
       "      <td>2023-03</td>\n",
       "      <td>741.0</td>\n",
       "    </tr>\n",
       "    <tr>\n",
       "      <th>1413</th>\n",
       "      <td>Finland</td>\n",
       "      <td>2023-04</td>\n",
       "      <td>732.0</td>\n",
       "    </tr>\n",
       "    <tr>\n",
       "      <th>1414</th>\n",
       "      <td>Finland</td>\n",
       "      <td>2023-05</td>\n",
       "      <td>719.0</td>\n",
       "    </tr>\n",
       "    <tr>\n",
       "      <th>1415</th>\n",
       "      <td>Finland</td>\n",
       "      <td>2023-06</td>\n",
       "      <td>605.0</td>\n",
       "    </tr>\n",
       "  </tbody>\n",
       "</table>\n",
       "<p>1416 rows × 3 columns</p>\n",
       "</div>"
      ],
      "text/plain": [
       "      Country     TIME  Total rail freight transport(M)\n",
       "0       Japan  1994-01                           1908.0\n",
       "1       Japan  1994-02                           2007.0\n",
       "2       Japan  1994-03                           2416.0\n",
       "3       Japan  1994-04                           2174.0\n",
       "4       Japan  1994-05                           1902.0\n",
       "...       ...      ...                              ...\n",
       "1411  Finland  2023-02                            633.0\n",
       "1412  Finland  2023-03                            741.0\n",
       "1413  Finland  2023-04                            732.0\n",
       "1414  Finland  2023-05                            719.0\n",
       "1415  Finland  2023-06                            605.0\n",
       "\n",
       "[1416 rows x 3 columns]"
      ]
     },
     "execution_count": 7,
     "metadata": {},
     "output_type": "execute_result"
    }
   ],
   "source": [
    "df1 = df1[['Country','TIME','Value',]]\n",
    "df1.rename(columns = {'Value':'Total rail freight transport(M)'},inplace = True)\n",
    "df1"
   ]
  },
  {
   "cell_type": "code",
   "execution_count": 10,
   "id": "557e019f",
   "metadata": {},
   "outputs": [],
   "source": [
    "df1 = df1[(df1['Country'] == 'Ireland')]"
   ]
  },
  {
   "cell_type": "code",
   "execution_count": 38,
   "id": "09502c1a",
   "metadata": {},
   "outputs": [
    {
     "data": {
      "text/html": [
       "<div>\n",
       "<style scoped>\n",
       "    .dataframe tbody tr th:only-of-type {\n",
       "        vertical-align: middle;\n",
       "    }\n",
       "\n",
       "    .dataframe tbody tr th {\n",
       "        vertical-align: top;\n",
       "    }\n",
       "\n",
       "    .dataframe thead th {\n",
       "        text-align: right;\n",
       "    }\n",
       "</style>\n",
       "<table border=\"1\" class=\"dataframe\">\n",
       "  <thead>\n",
       "    <tr style=\"text-align: right;\">\n",
       "      <th></th>\n",
       "      <th>Total rail freight transport(M)</th>\n",
       "    </tr>\n",
       "  </thead>\n",
       "  <tbody>\n",
       "    <tr>\n",
       "      <th>count</th>\n",
       "      <td>354.000000</td>\n",
       "    </tr>\n",
       "    <tr>\n",
       "      <th>mean</th>\n",
       "      <td>21.149435</td>\n",
       "    </tr>\n",
       "    <tr>\n",
       "      <th>std</th>\n",
       "      <td>17.172518</td>\n",
       "    </tr>\n",
       "    <tr>\n",
       "      <th>min</th>\n",
       "      <td>4.000000</td>\n",
       "    </tr>\n",
       "    <tr>\n",
       "      <th>25%</th>\n",
       "      <td>7.000000</td>\n",
       "    </tr>\n",
       "    <tr>\n",
       "      <th>50%</th>\n",
       "      <td>9.000000</td>\n",
       "    </tr>\n",
       "    <tr>\n",
       "      <th>75%</th>\n",
       "      <td>36.000000</td>\n",
       "    </tr>\n",
       "    <tr>\n",
       "      <th>max</th>\n",
       "      <td>82.000000</td>\n",
       "    </tr>\n",
       "  </tbody>\n",
       "</table>\n",
       "</div>"
      ],
      "text/plain": [
       "       Total rail freight transport(M)\n",
       "count                       354.000000\n",
       "mean                         21.149435\n",
       "std                          17.172518\n",
       "min                           4.000000\n",
       "25%                           7.000000\n",
       "50%                           9.000000\n",
       "75%                          36.000000\n",
       "max                          82.000000"
      ]
     },
     "execution_count": 38,
     "metadata": {},
     "output_type": "execute_result"
    }
   ],
   "source": [
    "df1.describe()"
   ]
  },
  {
   "cell_type": "markdown",
   "id": "964bf26e",
   "metadata": {},
   "source": [
    "## Measure of centry tendency \n",
    "###  1 Mean\n",
    "###  2 Median\n",
    "###  3 Mode"
   ]
  },
  {
   "cell_type": "code",
   "execution_count": 15,
   "id": "35b0e969",
   "metadata": {},
   "outputs": [
    {
     "name": "stdout",
     "output_type": "stream",
     "text": [
      "21.149435028248586\n",
      "9.0\n"
     ]
    }
   ],
   "source": [
    "print(np.mean(df1[\"Total rail freight transport(M)\"]))\n",
    "print(np.median(df1[\"Total rail freight transport(M)\"]))"
   ]
  },
  {
   "cell_type": "code",
   "execution_count": 18,
   "id": "c7d447bd",
   "metadata": {},
   "outputs": [
    {
     "name": "stdout",
     "output_type": "stream",
     "text": [
      "21.149435028248586\n",
      "9.0\n"
     ]
    }
   ],
   "source": [
    "print(statistics.mean(df1[\"Total rail freight transport(M)\"]))\n",
    "print(statistics.median(df1[\"Total rail freight transport(M)\"]))"
   ]
  },
  {
   "cell_type": "code",
   "execution_count": 20,
   "id": "6c6cf15b",
   "metadata": {},
   "outputs": [
    {
     "data": {
      "text/plain": [
       "8.0"
      ]
     },
     "execution_count": 20,
     "metadata": {},
     "output_type": "execute_result"
    }
   ],
   "source": [
    "statistics.mode(df1[\"Total rail freight transport(M)\"])"
   ]
  },
  {
   "cell_type": "markdown",
   "id": "adef463a",
   "metadata": {},
   "source": [
    "## Numer Summary"
   ]
  },
  {
   "cell_type": "code",
   "execution_count": 21,
   "id": "88c8236a",
   "metadata": {},
   "outputs": [
    {
     "data": {
      "text/plain": [
       "<Axes: ylabel='Total rail freight transport(M)'>"
      ]
     },
     "execution_count": 21,
     "metadata": {},
     "output_type": "execute_result"
    },
    {
     "data": {
      "image/png": "[encoded data removed]",
      "text/plain": [
       "<Figure size 640x480 with 1 Axes>"
      ]
     },
     "metadata": {},
     "output_type": "display_data"
    }
   ],
   "source": [
    "sns.boxplot(df1[\"Total rail freight transport(M)\"])"
   ]
  },
  {
   "cell_type": "code",
   "execution_count": 29,
   "id": "3989f080",
   "metadata": {},
   "outputs": [],
   "source": [
    "lower_fence,q1,q3,higher_fence = np.percentile(df1[\"Total rail freight transport(M)\"],[0,25,75,100])"
   ]
  },
  {
   "cell_type": "code",
   "execution_count": 30,
   "id": "f38f09cd",
   "metadata": {},
   "outputs": [
    {
     "name": "stdout",
     "output_type": "stream",
     "text": [
      "7.0 36.0 4.0 82.0\n"
     ]
    }
   ],
   "source": [
    "print(q1,q3,lower_fence,higher_fence)"
   ]
  },
  {
   "cell_type": "markdown",
   "id": "9014333a",
   "metadata": {},
   "source": [
    "## the meaning to caculate the lower_fence and higher_fence, is to know the boundry,any value out of this boundry will be outliers"
   ]
  },
  {
   "cell_type": "markdown",
   "id": "e24281f4",
   "metadata": {},
   "source": [
    "# Measure Of Dispersion\n",
    "\n",
    "### 1 Variance \n",
    "### 2 Standard Deviation"
   ]
  },
  {
   "cell_type": "code",
   "execution_count": 32,
   "id": "900a4319",
   "metadata": {},
   "outputs": [
    {
     "data": {
      "text/plain": [
       "294.89536795185734"
      ]
     },
     "execution_count": 32,
     "metadata": {},
     "output_type": "execute_result"
    }
   ],
   "source": [
    "statistics.variance(df1[\"Total rail freight transport(M)\"])"
   ]
  },
  {
   "cell_type": "code",
   "execution_count": 33,
   "id": "a4b24495",
   "metadata": {},
   "outputs": [
    {
     "data": {
      "text/plain": [
       "294.06233018928145"
      ]
     },
     "execution_count": 33,
     "metadata": {},
     "output_type": "execute_result"
    }
   ],
   "source": [
    "np.var(df1[\"Total rail freight transport(M)\"])"
   ]
  },
  {
   "cell_type": "markdown",
   "id": "9a5c57b3",
   "metadata": {},
   "source": [
    "## The difference between these two calculation methods lies in the fact that statistics calculates based on treating the dataset as a sample, with the denominator of the formula divided by (sample size - 1), while NumPy calculates based on treating the dataset as a population, with the denominator of the formula divided by (population size)."
   ]
  },
  {
   "cell_type": "code",
   "execution_count": 35,
   "id": "808aae9c",
   "metadata": {},
   "outputs": [
    {
     "data": {
      "text/plain": [
       "17.148245688386947"
      ]
     },
     "execution_count": 35,
     "metadata": {},
     "output_type": "execute_result"
    }
   ],
   "source": [
    "import math\n",
    "math.sqrt(statistics.pvariance(df1[\"Total rail freight transport(M)\"]))"
   ]
  },
  {
   "cell_type": "markdown",
   "id": "b70bb9cc",
   "metadata": {},
   "source": [
    "## Histograms and PDF"
   ]
  },
  {
   "cell_type": "code",
   "execution_count": 52,
   "id": "7e150cc2",
   "metadata": {},
   "outputs": [],
   "source": [
    "import matplotlib.pyplot as plt\n",
    "import scipy.stats as stat\n",
    "import pylab\n",
    "def plot_data(sample):\n",
    "    plt.figure(figsize=(10,6))\n",
    "    plt.subplot(1,2,1)\n",
    "    sns.histplot(sample)\n",
    "    plt.subplot(1,2,2)\n",
    "    stat.probplot(sample,dist='norm',plot=pylab)\n",
    "    plt.show()"
   ]
  },
  {
   "cell_type": "code",
   "execution_count": 53,
   "id": "e1b50b37",
   "metadata": {
    "scrolled": true
   },
   "outputs": [
    {
     "data": {
      "image/png": "[encoded data removed]",
      "text/plain": [
       "<Figure size 1000x600 with 2 Axes>"
      ]
     },
     "metadata": {},
     "output_type": "display_data"
    }
   ],
   "source": [
    "plot_data(df1[\"Total rail freight transport(M)\"])"
   ]
  },
  {
   "cell_type": "markdown",
   "id": "4190c19d",
   "metadata": {},
   "source": [
    "### \"From the bar chart on the left, it can be observed that the number of data points falling into different intervals defined by the X-axis varies. For instance, the largest number of data points falls into the first interval, roughly between (3, 12), with approximately 190 data points.\n",
    "\n",
    "### From the QQ plot on the right, it can be observed that the data deviates significantly from the red reference line, indicating that it does not follow a normal distribution"
   ]
  },
  {
   "cell_type": "markdown",
   "id": "b6d0894a",
   "metadata": {},
   "source": [
    "### (2 ) Analyse the variables in your dataset(s) and use appropriate inferential statistics to gain insights on possible population values "
   ]
  },
  {
   "cell_type": "code",
   "execution_count": 58,
   "id": "57c6860d",
   "metadata": {},
   "outputs": [
    {
     "name": "stdout",
     "output_type": "stream",
     "text": [
      "708     41.0\n",
      "709     41.8\n",
      "710     43.8\n",
      "711     40.6\n",
      "712     44.0\n",
      "        ... \n",
      "1057     6.0\n",
      "1058     7.0\n",
      "1059     9.0\n",
      "1060     9.0\n",
      "1061     9.0\n",
      "Name: Total rail freight transport(M), Length: 354, dtype: float64\n"
     ]
    }
   ],
   "source": [
    "print(df1[\"Total rail freight transport(M)\"])"
   ]
  },
  {
   "cell_type": "code",
   "execution_count": 59,
   "id": "03dc27db",
   "metadata": {},
   "outputs": [],
   "source": [
    "import pandas as pd\n",
    "import statsmodels.api as sm\n",
    "import matplotlib.pyplot as plt"
   ]
  },
  {
   "cell_type": "code",
   "execution_count": 62,
   "id": "99cf0e97",
   "metadata": {},
   "outputs": [],
   "source": [
    "  # 替换为您的数据文件路径\n",
    "df1['Date'] = pd.to_datetime(df1['TIME'])\n",
    "\n",
    "df1.set_index('Date', inplace=True)"
   ]
  },
  {
   "cell_type": "code",
   "execution_count": 66,
   "id": "67338682",
   "metadata": {},
   "outputs": [
    {
     "data": {
      "image/png": "[encoded data removed]",
      "text/plain": [
       "<Figure size 1200x600 with 1 Axes>"
      ]
     },
     "metadata": {},
     "output_type": "display_data"
    }
   ],
   "source": [
    "plt.figure(figsize=(12, 6))\n",
    "plt.plot(df1.index, df1['Total rail freight transport(M)'], label='Total rail freight transport(M)')\n",
    "plt.xlabel('TIME')\n",
    "plt.ylabel('Total rail freight transport(M)')\n",
    "plt.title('Time Series of Total rail freight transport in Ireland')\n",
    "plt.legend()\n",
    "plt.show()"
   ]
  },
  {
   "cell_type": "code",
   "execution_count": 56,
   "id": "f035013c",
   "metadata": {},
   "outputs": [
    {
     "name": "stdout",
     "output_type": "stream",
     "text": [
      "ADF Statistic: -1.768128725705602\n",
      "p-value: 0.3963957101862632\n",
      "Critical Values: {'1%': -3.4496162602188187, '5%': -2.870028369720798, '10%': -2.5712922615505627}\n",
      "Fail to reject the null hypothesis: There is no significant time trend.\n"
     ]
    }
   ],
   "source": [
    "from statsmodels.tsa.stattools import adfuller\n",
    "\n",
    "# 对原始时间序列数据执行ADF检验\n",
    "result = adfuller(df1[\"Total rail freight transport(M)\"])\n",
    "print(\"ADF Statistic:\", result[0])\n",
    "print(\"p-value:\", result[1])\n",
    "print(\"Critical Values:\", result[4])\n",
    "\n",
    "# 根据p-value决定是否拒绝原假设\n",
    "alpha = 0.05\n",
    "if result[1] < alpha:\n",
    "    print(\"Reject the null hypothesis: There is a significant time trend.\")\n",
    "else:\n",
    "    print(\"Fail to reject the null hypothesis: There is no significant time trend.\")\n"
   ]
  },
  {
   "cell_type": "markdown",
   "id": "a3166d84",
   "metadata": {},
   "source": [
    "## The ADF test is typically used to examine whether time series data contains a unit root (i.e., non-stationarity). In this case, the ADF test can be used to validate the null hypothesis. If the p-value of the ADF test is less than the chosen significance level (usually 0.05), then the null hypothesis is rejected, indicating a significant time trend. If the p-value is greater than the significance level, the null hypothesis is accepted, indicating that the time series is stationary.\n",
    "## So, if  need to perform time series forecasting in the future, there is no need for differencing"
   ]
  },
  {
   "cell_type": "markdown",
   "id": "55eeceeb",
   "metadata": {},
   "source": [
    "##  (3) Undertake research to find similarities between some country(s) against Ireland and apply parametric and non-parametric inferential statistical techniques to compare them (e.g., t-test, analysis of variance, Wilcoxon test, chi-squared test, among others). You must justify your choices and verify the applicability of the tests. Hypotheses and conclusions must be clearly stated. You are expected to use at least 5 different inferential statistics tests. "
   ]
  },
  {
   "cell_type": "code",
   "execution_count": null,
   "id": "b6a3d6e1",
   "metadata": {},
   "outputs": [],
   "source": []
  }
 ],
 "metadata": {
  "kernelspec": {
   "display_name": "Python 3 (ipykernel)",
   "language": "python",
   "name": "python3"
  },
  "language_info": {
   "codemirror_mode": {
    "name": "ipython",
    "version": 3
   },
   "file_extension": ".py",
   "mimetype": "text/x-python",
   "name": "python",
   "nbconvert_exporter": "python",
   "pygments_lexer": "ipython3",
   "version": "3.10.13"
  }
 },
 "nbformat": 4,
 "nbformat_minor": 5
}
